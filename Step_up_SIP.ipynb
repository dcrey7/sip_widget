{
 "cells": [
  {
   "cell_type": "code",
   "execution_count": 95,
   "id": "81d7266f",
   "metadata": {},
   "outputs": [
    {
     "data": {
      "application/vnd.jupyter.widget-view+json": {
       "model_id": "04a68277aef64c648c7ba0e117163603",
       "version_major": 2,
       "version_minor": 0
      },
      "text/plain": [
       "VBox(children=(IntSlider(value=1000, continuous_update=False, description='Monthly investment (₹):', max=10000…"
      ]
     },
     "execution_count": 95,
     "metadata": {},
     "output_type": "execute_result"
    }
   ],
   "source": [
    "import ipywidgets as widgets\n",
    "import locale\n",
    "import pandas as pd\n",
    "\n",
    "# Set the locale for Indian numbering system\n",
    "locale.setlocale(locale.LC_NUMERIC, 'en_IN')\n",
    "\n",
    "def format_currency(amount):\n",
    "    \"\"\"\n",
    "    Format the amount in Indian numbering system.\n",
    "\n",
    "    Args:\n",
    "        amount (float): The amount to format.\n",
    "\n",
    "    Returns:\n",
    "        str: The formatted amount.\n",
    "    \"\"\"\n",
    "    if amount >= 1e7 or amount <= -1e7 :\n",
    "        return f'₹{amount / 1e7:.1f} Cr'\n",
    "    elif amount >= 1e5 or amount <= -1e5:\n",
    "        return f'₹{amount / 1e5:.1f} L'\n",
    "    elif amount >= 1e3 or amount <= -1e3:\n",
    "        return f'₹{amount / 1e3:.1f} K'\n",
    "    else:\n",
    "        return f'₹{amount:.1f}'\n",
    "\n",
    "def sip_calculator(monthly_investment, expected_return_rate, time_period, current_age):\n",
    "    \"\"\"\n",
    "    Calculates the estimated returns and total value for a Systematic Investment Plan (SIP).\n",
    "\n",
    "    Args:\n",
    "        monthly_investment (float): Monthly investment amount.\n",
    "        expected_return_rate (float): Expected annual return rate as a decimal (e.g., 0.12 for 12%).\n",
    "        time_period (int): Investment time period in years.\n",
    "        current_age (int): Current age of the investor.\n",
    "\n",
    "    Returns:\n",
    "        pandas.DataFrame: DataFrame containing the investment details for each year.\n",
    "    \"\"\"\n",
    "    n = time_period * 12  # Number of payments\n",
    "    i = expected_return_rate / 12  # Periodic rate of interest\n",
    "    \n",
    "    data = []\n",
    "    total_investment = 0\n",
    "    \n",
    "    for year in range(1, time_period + 1):\n",
    "        total_investment += monthly_investment * 12\n",
    "        total_value = monthly_investment * ((1 + i) ** (year * 12) - 1) / i * (1 + i)\n",
    "        estimated_returns = total_value - total_investment\n",
    "        data.append([current_age + year - 1, year, format_currency(monthly_investment),format_currency(total_investment), format_currency(estimated_returns), format_currency(total_value)])\n",
    "    \n",
    "    df = pd.DataFrame(data, columns=['Age', 'Year', 'Monthly Investment','Total Investment Year', 'Estimated Returns', 'Total Value']).set_index('Year')\n",
    "    return df\n",
    "\n",
    "# Create interactive widgets with styled descriptions\n",
    "monthly_investment_slider = widgets.IntSlider(value=1000, min=1000, max=100000, step=1000, description='Monthly investment (₹):', continuous_update=False, style={'description_width': 'initial'})\n",
    "expected_return_rate_slider = widgets.FloatSlider(value=0.10, min=0.01, max=0.2, step=0.01, description='Expected return rate:', continuous_update=False, style={'description_width': 'initial'})\n",
    "time_period_slider = widgets.IntSlider(value=10, min=1, max=30, step=1, description='Time period (years):', continuous_update=False, style={'description_width': 'initial'})\n",
    "current_age_slider = widgets.IntSlider(value=25, min=18, max=100, step=1, description='Current age:', continuous_update=False, style={'description_width': 'initial'})\n",
    "\n",
    "# Create an output widget for displaying results\n",
    "output_widget = widgets.Output()\n",
    "\n",
    "def display_results(change):\n",
    "    df = sip_calculator(monthly_investment_slider.value, expected_return_rate_slider.value, time_period_slider.value, current_age_slider.value)\n",
    "    with output_widget:\n",
    "        output_widget.clear_output()\n",
    "        display(df)\n",
    "\n",
    "# Call display_results initially to show initial values\n",
    "display_results(None)\n",
    "\n",
    "# Observe changes and display results\n",
    "monthly_investment_slider.observe(display_results, names='value')\n",
    "expected_return_rate_slider.observe(display_results, names='value')\n",
    "time_period_slider.observe(display_results, names='value')\n",
    "current_age_slider.observe(display_results, names='value')\n",
    "\n",
    "# Display the widgets\n",
    "widgets.VBox([\n",
    "    monthly_investment_slider,\n",
    "    expected_return_rate_slider,\n",
    "    time_period_slider,\n",
    "    current_age_slider,\n",
    "    output_widget\n",
    "])\n"
   ]
  },
  {
   "cell_type": "code",
   "execution_count": 89,
   "id": "0592ff76",
   "metadata": {},
   "outputs": [
    {
     "data": {
      "application/vnd.jupyter.widget-view+json": {
       "model_id": "32ed67931a6c49a8ae4811d46d0c859a",
       "version_major": 2,
       "version_minor": 0
      },
      "text/plain": [
       "VBox(children=(IntSlider(value=1000, continuous_update=False, description='Monthly investment (₹):', max=10000…"
      ]
     },
     "execution_count": 89,
     "metadata": {},
     "output_type": "execute_result"
    }
   ],
   "source": [
    "import ipywidgets as widgets\n",
    "import locale\n",
    "import pandas as pd\n",
    "\n",
    "# Set the locale for Indian numbering system\n",
    "locale.setlocale(locale.LC_NUMERIC, 'en_IN')\n",
    "\n",
    "def format_currency(amount):\n",
    "    \"\"\"\n",
    "    Format the amount in Indian numbering system.\n",
    "\n",
    "    Args:\n",
    "        amount (float): The amount to format.\n",
    "\n",
    "    Returns:\n",
    "        str: The formatted amount.\n",
    "    \"\"\"\n",
    "    if amount >= 1e7:\n",
    "        return f'₹{amount / 1e7:.2f} Cr'\n",
    "    elif amount >= 1e5:\n",
    "        return f'₹{amount / 1e5:.2f} L'\n",
    "    elif amount >= 1e3:\n",
    "        return f'₹{amount / 1e3:.2f} K'\n",
    "    else:\n",
    "        return f'₹{amount:.2f}'\n",
    "\n",
    "def sip_calculator(monthly_investment, expected_return_rate, time_period, current_age,step_up_percentage):\n",
    "    \"\"\"\n",
    "    Calculates the estimated returns and total value for a Systematic Investment Plan (SIP).\n",
    "\n",
    "    Args:\n",
    "        monthly_investment (float): Monthly investment amount.\n",
    "        expected_return_rate (float): Expected annual return rate as a decimal (e.g., 0.12 for 12%).\n",
    "        time_period (int): Investment time period in years.\n",
    "        current_age (int): Current age of the investor.\n",
    "\n",
    "    Returns:\n",
    "        pandas.DataFrame: DataFrame containing the investment details for each year.\n",
    "    \"\"\"\n",
    "    n = time_period * 12  # Number of payments\n",
    "    i = expected_return_rate / 12  # Periodic rate of interest\n",
    "\n",
    "    data = []\n",
    "    total_investment = 0\n",
    "    \n",
    "    if step_up_percentage==0:\n",
    "\n",
    "\n",
    "\n",
    "        for year in range(1, time_period + 1):\n",
    "            total_investment += monthly_investment * 12\n",
    "            monthly_investment_year=monthly_investment*12\n",
    "            total_value = monthly_investment * ((1 + i) ** (year * 12) - 1) / i * (1 + i)\n",
    "            estimated_returns = total_value - total_investment\n",
    "            data.append([current_age + year - 1, year, format_currency(monthly_investment),format_currency(monthly_investment_year),format_currency(total_investment), format_currency(estimated_returns), format_currency(total_value)])\n",
    "\n",
    "        df = pd.DataFrame(data, columns=['Age', 'Year', 'Monthly Investment','Monthly Investment Year','Total Investment', 'Estimated Returns', 'Total Value']).set_index('Year')\n",
    "        return df\n",
    "    else:\n",
    "\n",
    "        data = []\n",
    "        \n",
    "\n",
    "        for year in range(1, time_period + 1):\n",
    "#             total_investment += monthly_investment * 12\n",
    "#             step_up_amount = monthly_investment * (step_up_percentage / 100) * (year - 1)\n",
    "#             monthly_investment_year = monthly_investment + step_up_amount / 12  # Adjust monthly investment for step-up\n",
    "#             total_investment_year = total_investment + step_up_amount\n",
    "            if year==1:\n",
    "                step_up_amount = monthly_investment * (step_up_percentage / 100) * (year - 1)\n",
    "                monthly_investment+=step_up_amount\n",
    "                total_investment=monthly_investment*12\n",
    "                monthly_investment_year=monthly_investment*12\n",
    "#                 total_value = total_investment * ((1 + i) ** (year * 12))\n",
    "                total_value = monthly_investment * ((1 + i) ** (year * 12) - 1) / i * (1 + i)\n",
    "                estimated_returns = total_value - total_investment\n",
    "                data.append([current_age + year - 1, year, format_currency(monthly_investment),format_currency(monthly_investment_year), format_currency(total_investment), format_currency(estimated_returns), format_currency(total_value)])\n",
    "\n",
    "                df = pd.DataFrame(data, columns=['Age', 'Year', 'Monthly Investment','Monthly Investment Year', 'Total Investment', 'Estimated Returns', 'Total Value']).set_index('Year')\n",
    "            \n",
    "            \n",
    "            else:\n",
    "                step_up_amount = monthly_investment * (step_up_percentage / 100)\n",
    "                monthly_investment+=step_up_amount\n",
    "                monthly_investment_year=monthly_investment*12\n",
    "                total_investment+=(monthly_investment*12)\n",
    "#                 total_value = total_investment * ((1 + i) ** (year * 12))\n",
    "                total_value += monthly_investment * ((1 + i) ** (12) - 1) / i * (1 + i)\n",
    "                estimated_returns = total_value - total_investment\n",
    "                data.append([current_age + year - 1, year, format_currency(monthly_investment),format_currency(monthly_investment_year), format_currency(total_investment), format_currency(estimated_returns), format_currency(total_value)])\n",
    "\n",
    "                df = pd.DataFrame(data, columns=['Age', 'Year', 'Monthly Investment','Monthly Investment Year', 'Total Investment Year', 'Estimated Returns', 'Total Value']).set_index('Year')\n",
    "        return df\n",
    "                \n",
    "\n",
    "# Create interactive widgets with styled descriptions\n",
    "monthly_investment_slider = widgets.IntSlider(value=1000, min=1000, max=100000, step=1000, description='Monthly investment (₹):', continuous_update=False, style={'description_width': 'initial'})\n",
    "expected_return_rate_slider = widgets.FloatSlider(value=0.10, min=0.01, max=0.2, step=0.01, description='Expected return rate:', continuous_update=False, style={'description_width': 'initial'})\n",
    "time_period_slider = widgets.IntSlider(value=10, min=1, max=30, step=1, description='Time period (years):', continuous_update=False, style={'description_width': 'initial'})\n",
    "current_age_slider = widgets.IntSlider(value=30, min=18, max=100, step=1, description='Current age:', continuous_update=False, style={'description_width': 'initial'})\n",
    "step_up_percentage_slider = widgets.FloatSlider(value=10, min=0, max=100, step=1, description='Annual step-up percentage:', continuous_update=False, style={'description_width': 'initial'})\n",
    "\n",
    "# Create an output widget for displaying results\n",
    "output_widget = widgets.Output()\n",
    "\n",
    "def display_results(change):\n",
    "    df = sip_calculator(monthly_investment_slider.value, expected_return_rate_slider.value, time_period_slider.value, current_age_slider.value, step_up_percentage_slider.value)\n",
    "    with output_widget:\n",
    "        output_widget.clear_output()\n",
    "        display(df)\n",
    "\n",
    "# Call display_results initially to show initial values\n",
    "display_results(None)\n",
    "\n",
    "# Observe changes and display results\n",
    "monthly_investment_slider.observe(display_results, names='value')\n",
    "expected_return_rate_slider.observe(display_results, names='value')\n",
    "time_period_slider.observe(display_results, names='value')\n",
    "current_age_slider.observe(display_results, names='value')\n",
    "step_up_percentage_slider.observe(display_results, names='value')\n",
    "\n",
    "\n",
    "# Display the widgets\n",
    "widgets.VBox([\n",
    "    monthly_investment_slider,\n",
    "    expected_return_rate_slider,\n",
    "    time_period_slider,\n",
    "    current_age_slider,\n",
    "    step_up_percentage_slider,\n",
    "    output_widget\n",
    "])\n"
   ]
  },
  {
   "cell_type": "code",
   "execution_count": 90,
   "id": "3cba7998",
   "metadata": {},
   "outputs": [
    {
     "data": {
      "text/plain": [
       "0.01"
      ]
     },
     "execution_count": 90,
     "metadata": {},
     "output_type": "execute_result"
    }
   ],
   "source": [
    ".12/12"
   ]
  },
  {
   "cell_type": "code",
   "execution_count": 91,
   "id": "e4786f8d",
   "metadata": {},
   "outputs": [
    {
     "data": {
      "text/plain": [
       "1.1156683466653166"
      ]
     },
     "execution_count": 91,
     "metadata": {},
     "output_type": "execute_result"
    }
   ],
   "source": [
    "(1.01)**11"
   ]
  },
  {
   "cell_type": "code",
   "execution_count": 92,
   "id": "aaa62b1c",
   "metadata": {},
   "outputs": [
    {
     "data": {
      "text/plain": [
       "1.1046221254112045"
      ]
     },
     "execution_count": 92,
     "metadata": {},
     "output_type": "execute_result"
    }
   ],
   "source": [
    "1.1156683466653166/1.01"
   ]
  },
  {
   "cell_type": "code",
   "execution_count": 93,
   "id": "a77dc49d",
   "metadata": {},
   "outputs": [
    {
     "data": {
      "text/plain": [
       "1227.2351813318483"
      ]
     },
     "execution_count": 93,
     "metadata": {},
     "output_type": "execute_result"
    }
   ],
   "source": [
    "1.1046221254112045*1100*1.01\n"
   ]
  },
  {
   "cell_type": "code",
   "execution_count": 94,
   "id": "048ae65a",
   "metadata": {},
   "outputs": [
    {
     "data": {
      "text/plain": [
       "133227.23518133184"
      ]
     },
     "execution_count": 94,
     "metadata": {},
     "output_type": "execute_result"
    }
   ],
   "source": [
    "1227.2351813318483+132000\n"
   ]
  },
  {
   "cell_type": "code",
   "execution_count": null,
   "id": "dfd6c157",
   "metadata": {},
   "outputs": [],
   "source": []
  }
 ],
 "metadata": {
  "kernelspec": {
   "display_name": "Python 3 (ipykernel)",
   "language": "python",
   "name": "python3"
  },
  "language_info": {
   "codemirror_mode": {
    "name": "ipython",
    "version": 3
   },
   "file_extension": ".py",
   "mimetype": "text/x-python",
   "name": "python",
   "nbconvert_exporter": "python",
   "pygments_lexer": "ipython3",
   "version": "3.11.5"
  },
  "toc": {
   "base_numbering": 1,
   "nav_menu": {},
   "number_sections": true,
   "sideBar": true,
   "skip_h1_title": false,
   "title_cell": "Table of Contents",
   "title_sidebar": "Contents",
   "toc_cell": false,
   "toc_position": {},
   "toc_section_display": true,
   "toc_window_display": false
  }
 },
 "nbformat": 4,
 "nbformat_minor": 5
}
